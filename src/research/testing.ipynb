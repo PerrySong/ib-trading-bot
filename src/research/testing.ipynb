{
 "cells": [
  {
   "cell_type": "code",
   "execution_count": 1,
   "metadata": {},
   "outputs": [],
   "source": [
    "import threading\n",
    "import time\n",
    "\n",
    "import pandas as pd\n",
    "\n",
    "import os\n",
    "import sys\n",
    "\n",
    "module_path = os.path.abspath(os.path.join('..'))\n",
    "if module_path not in sys.path:\n",
    "    sys.path.append(module_path)\n",
    "\n",
    "from lib.trade_app import TradeApp\n",
    "import lib.helper as helper"
   ]
  },
  {
   "cell_type": "code",
   "execution_count": 2,
   "metadata": {},
   "outputs": [],
   "source": [
    "app = TradeApp()\n"
   ]
  },
  {
   "cell_type": "code",
   "execution_count": 3,
   "metadata": {},
   "outputs": [
    {
     "name": "stderr",
     "output_type": "stream",
     "text": [
      "ERROR -1 2104 Market data farm connection is OK:usfarm.nj\n",
      "ERROR -1 2104 Market data farm connection is OK:hfarm\n",
      "ERROR -1 2104 Market data farm connection is OK:jfarm\n",
      "ERROR -1 2104 Market data farm connection is OK:usfuture\n",
      "ERROR -1 2104 Market data farm connection is OK:cashfarm\n",
      "ERROR -1 2104 Market data farm connection is OK:eufarmnj\n",
      "ERROR -1 2104 Market data farm connection is OK:usfarm\n",
      "ERROR -1 2106 HMDS data farm connection is OK:euhmds\n",
      "ERROR -1 2106 HMDS data farm connection is OK:fundfarm\n",
      "ERROR -1 2106 HMDS data farm connection is OK:ushmds\n",
      "ERROR -1 2158 Sec-def data farm connection is OK:secdefil\n"
     ]
    },
    {
     "name": "stdout",
     "output_type": "stream",
     "text": [
      "NextValidId: 1\n"
     ]
    }
   ],
   "source": [
    "\"\"\"Function that run the entire trading app \"\"\"\n",
    "app = TradeApp()\n",
    "app.connect(host='127.0.0.1', port=7497,\n",
    "                clientId=23)  # port 4002 for ib gateway paper trading/7497 for TWS paper trading\n",
    "con_thread = threading.Thread(target=app.run, daemon=True)\n",
    "con_thread.start()\n",
    "\n",
    "tickers = [\"FB\", \"AMZN\", \"INTC\", \"MSFT\", \"AAPL\", \"GOOG\", \"CSCO\", \"CMCSA\", \"ADBE\", \"NVDA\",\n",
    "               \"NFLX\", \"PYPL\", \"AMGN\", \"AVGO\", \"TXN\", \"CHTR\", \"QCOM\", \"GILD\", \"FISV\", \"BKNG\",\n",
    "               \"INTU\", \"ADP\", \"CME\", \"TMUS\", \"MU\"]\n",
    "\n",
    "capital = 300_000\n",
    "\n"
   ]
  },
  {
   "cell_type": "code",
   "execution_count": null,
   "metadata": {},
   "outputs": [],
   "source": [
    "app.reqPositions()\n",
    "time.sleep(2)\n",
    "pos_df = app.pos_df\n",
    "pos_df.drop_duplicates(inplace=True, ignore_index=True)  # position callback tends to give duplicate values\n",
    "app.reqOpenOrders()\n",
    "time.sleep(2)"
   ]
  },
  {
   "cell_type": "code",
   "execution_count": null,
   "metadata": {},
   "outputs": [],
   "source": []
  }
 ],
 "metadata": {
  "kernelspec": {
   "display_name": "ib-trading-bot",
   "language": "python",
   "name": "ib-trading-bot"
  },
  "language_info": {
   "codemirror_mode": {
    "name": "ipython",
    "version": 3
   },
   "file_extension": ".py",
   "mimetype": "text/x-python",
   "name": "python",
   "nbconvert_exporter": "python",
   "pygments_lexer": "ipython3",
   "version": "3.8.5"
  }
 },
 "nbformat": 4,
 "nbformat_minor": 1
}
