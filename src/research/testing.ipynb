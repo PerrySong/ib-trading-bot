{
 "cells": [
  {
   "cell_type": "code",
   "execution_count": 4,
   "metadata": {},
   "outputs": [],
   "source": [
    "import threading\n",
    "import time\n",
    "\n",
    "import pandas as pd\n",
    "\n",
    "import os\n",
    "import sys\n",
    "\n",
    "module_path = os.path.abspath(os.path.join('..'))\n",
    "if module_path not in sys.path:\n",
    "    sys.path.append(module_path)\n",
    "\n",
    "from lib.trade_app import TradeApp\n",
    "import lib.helper as helper"
   ]
  },
  {
   "cell_type": "code",
   "execution_count": 5,
   "metadata": {},
   "outputs": [],
   "source": [
    "app = TradeApp()\n"
   ]
  },
  {
   "cell_type": "code",
   "execution_count": 6,
   "metadata": {},
   "outputs": [
    {
     "name": "stderr",
     "output_type": "stream",
     "text": [
      "ERROR -1 504 Not connected\n",
      "ERROR 0 504 Not connected\n"
     ]
    },
    {
     "name": "stdout",
     "output_type": "stream",
     "text": [
      "starting passthrough for..... FB\n"
     ]
    },
    {
     "ename": "NameError",
     "evalue": "name 'dataDataframe' is not defined",
     "output_type": "error",
     "traceback": [
      "\u001b[0;31m------------------------------------------\u001b[0m",
      "\u001b[0;31mNameError\u001b[0mTraceback (most recent call last)",
      "\u001b[0;32m<ipython-input-6-22d0a8a8b850>\u001b[0m in \u001b[0;36m<module>\u001b[0;34m\u001b[0m\n\u001b[1;32m     46\u001b[0m     \u001b[0mhistData\u001b[0m\u001b[0;34m(\u001b[0m\u001b[0mtickers\u001b[0m\u001b[0;34m.\u001b[0m\u001b[0mindex\u001b[0m\u001b[0;34m(\u001b[0m\u001b[0mticker\u001b[0m\u001b[0;34m)\u001b[0m\u001b[0;34m,\u001b[0m\u001b[0mhelper\u001b[0m\u001b[0;34m.\u001b[0m\u001b[0mcontract\u001b[0m\u001b[0;34m(\u001b[0m\u001b[0mticker\u001b[0m\u001b[0;34m)\u001b[0m\u001b[0;34m,\u001b[0m\u001b[0;34m'1 M'\u001b[0m\u001b[0;34m,\u001b[0m \u001b[0;34m'15 mins'\u001b[0m\u001b[0;34m)\u001b[0m\u001b[0;34m\u001b[0m\u001b[0;34m\u001b[0m\u001b[0m\n\u001b[1;32m     47\u001b[0m     \u001b[0mtime\u001b[0m\u001b[0;34m.\u001b[0m\u001b[0msleep\u001b[0m\u001b[0;34m(\u001b[0m\u001b[0;36m5\u001b[0m\u001b[0;34m)\u001b[0m\u001b[0;34m\u001b[0m\u001b[0;34m\u001b[0m\u001b[0m\n\u001b[0;32m---> 48\u001b[0;31m     \u001b[0mdf\u001b[0m \u001b[0;34m=\u001b[0m \u001b[0mdataDataframe\u001b[0m\u001b[0;34m(\u001b[0m\u001b[0mapp\u001b[0m\u001b[0;34m,\u001b[0m\u001b[0mtickers\u001b[0m\u001b[0;34m,\u001b[0m\u001b[0mticker\u001b[0m\u001b[0;34m)\u001b[0m\u001b[0;34m\u001b[0m\u001b[0;34m\u001b[0m\u001b[0m\n\u001b[0m\u001b[1;32m     49\u001b[0m     \u001b[0mdf\u001b[0m\u001b[0;34m[\u001b[0m\u001b[0;34m\"stoch\"\u001b[0m\u001b[0;34m]\u001b[0m \u001b[0;34m=\u001b[0m \u001b[0mstochOscltr\u001b[0m\u001b[0;34m(\u001b[0m\u001b[0mdf\u001b[0m\u001b[0;34m)\u001b[0m\u001b[0;34m\u001b[0m\u001b[0;34m\u001b[0m\u001b[0m\n\u001b[1;32m     50\u001b[0m     \u001b[0mdf\u001b[0m\u001b[0;34m[\u001b[0m\u001b[0;34m\"macd\"\u001b[0m\u001b[0;34m]\u001b[0m \u001b[0;34m=\u001b[0m \u001b[0mMACD\u001b[0m\u001b[0;34m(\u001b[0m\u001b[0mdf\u001b[0m\u001b[0;34m)\u001b[0m\u001b[0;34m[\u001b[0m\u001b[0;34m\"MACD\"\u001b[0m\u001b[0;34m]\u001b[0m\u001b[0;34m\u001b[0m\u001b[0;34m\u001b[0m\u001b[0m\n",
      "\u001b[0;31mNameError\u001b[0m: name 'dataDataframe' is not defined"
     ]
    }
   ],
   "source": [
    "\"\"\"Function that run the entire trading app \"\"\"\n",
    "app = TradeApp()\n",
    "app.connect(host='127.0.0.1', port=7497,\n",
    "                clientId=23)  # port 4002 for ib gateway paper trading/7497 for TWS paper trading\n",
    "con_thread = threading.Thread(target=app.run, daemon=True)\n",
    "con_thread.start()\n",
    "\n",
    "tickers = [\"FB\", \"AMZN\", \"INTC\", \"MSFT\", \"AAPL\", \"GOOG\", \"CSCO\", \"CMCSA\", \"ADBE\", \"NVDA\",\n",
    "               \"NFLX\", \"PYPL\", \"AMGN\", \"AVGO\", \"TXN\", \"CHTR\", \"QCOM\", \"GILD\", \"FISV\", \"BKNG\",\n",
    "               \"INTU\", \"ADP\", \"CME\", \"TMUS\", \"MU\"]\n",
    "\n",
    "capital = 1000\n",
    "\n",
    "app.data = {}\n",
    "app.pos_df = pd.DataFrame(columns=['Account', 'Symbol', 'SecType',\n",
    "                                       'Currency', 'Position', 'Avg cost'])\n",
    "app.order_df = pd.DataFrame(columns=['PermId', 'ClientId', 'OrderId',\n",
    "                                         'Account', 'Symbol', 'SecType',\n",
    "                                         'Exchange', 'Action', 'OrderType',\n",
    "                                         'TotalQty', 'CashQty', 'LmtPrice',\n",
    "                                         'AuxPrice', 'Status'])\n",
    "app.reqPositions()\n",
    "time.sleep(2)\n",
    "pos_df = app.pos_df\n",
    "pos_df.drop_duplicates(inplace=True, ignore_index=True)  # position callback tends to give duplicate values\n",
    "app.reqOpenOrders()\n",
    "time.sleep(2)\n",
    "ord_df = app.order_df\n",
    "\n",
    "def histData(req_num,contract,duration,candle_size):\n",
    "    \"\"\"extracts historical data\"\"\"\n",
    "    app.reqHistoricalData(reqId=req_num, \n",
    "                          contract=contract,\n",
    "                          endDateTime='',\n",
    "                          durationStr=duration,\n",
    "                          barSizeSetting=candle_size,\n",
    "                          whatToShow='ADJUSTED_LAST',\n",
    "                          useRTH=1,\n",
    "                          formatDate=1,\n",
    "                          keepUpToDate=0,\n",
    "                          chartOptions=[])\t # EClient function to request contract details\n",
    "\n",
    "\n",
    "for ticker in tickers:\n",
    "    print(\"starting passthrough for.....\",ticker)\n",
    "    histData(tickers.index(ticker),helper.contract(ticker),'1 M', '15 mins')\n",
    "    time.sleep(5)\n",
    "    df = dataDataframe(app,tickers,ticker)\n",
    "    df[\"stoch\"] = stochOscltr(df)\n",
    "    df[\"macd\"] = MACD(df)[\"MACD\"]\n",
    "    df[\"signal\"] = MACD(df)[\"Signal\"]\n",
    "    df[\"atr\"] = atr(df,60)\n",
    "    df.dropna(inplace=True)\n",
    "    quantity = int(capital/df[\"Close\"][-1])\n",
    "    if quantity == 0:\n",
    "        continue\n",
    "    if len(pos_df.columns)==0:\n",
    "        if df[\"macd\"][-1]> df[\"signal\"][-1] and \\\n",
    "            df[\"stoch\"][-1]> 30 and \\\n",
    "            df[\"stoch\"][-1] > df[\"stoch\"][-2]:\n",
    "                app.reqIds(-1)\n",
    "                time.sleep(2)\n",
    "                order_id = app.nextValidOrderId\n",
    "                app.placeOrder(order_id,usTechStk(ticker),marketOrder(\"BUY\",quantity))\n",
    "                time.sleep(5)\n",
    "                try:\n",
    "                    pos_df = app.pos_df\n",
    "                    time.sleep(5)\n",
    "                    sl_q = pos_df[pos_df[\"Symbol\"]==ticker][\"Position\"].sort_values(ascending=True).values[-1]\n",
    "                    app.placeOrder(order_id+1,usTechStk(ticker),stopOrder(\"SELL\",sl_q,round(df[\"Close\"][-1]-df[\"atr\"][-1],1)))\n",
    "                except Exception as e:\n",
    "                    print(e, \"no fill for {}\".format(ticker))\n",
    "          \n",
    "    elif len(pos_df.columns)!=0 and ticker not in pos_df[\"Symbol\"].tolist():\n",
    "        if df[\"macd\"][-1]> df[\"signal\"][-1] and \\\n",
    "            df[\"stoch\"][-1]> 30 and \\\n",
    "            df[\"stoch\"][-1] > df[\"stoch\"][-2]:\n",
    "                app.reqIds(-1)\n",
    "                time.sleep(2)\n",
    "                order_id = app.nextValidOrderId\n",
    "                app.placeOrder(order_id,usTechStk(ticker),marketOrder(\"BUY\",quantity))\n",
    "                time.sleep(5)\n",
    "                try:\n",
    "                    pos_df = app.pos_df\n",
    "                    time.sleep(5)\n",
    "                    sl_q = pos_df[pos_df[\"Symbol\"]==ticker][\"Position\"].sort_values(ascending=True).values[-1]\n",
    "                    app.placeOrder(order_id+1,usTechStk(ticker),stopOrder(\"SELL\",sl_q,round(df[\"Close\"][-1]-df[\"atr\"][-1],1)))\n",
    "                except Exception as e:\n",
    "                    print(e, \"no fill for {}\".format(ticker))\n",
    "                   \n",
    "    elif len(pos_df.columns)!=0 and ticker in pos_df[\"Symbol\"].tolist():\n",
    "        if pos_df[pos_df[\"Symbol\"]==ticker][\"Position\"].sort_values(ascending=True).values[-1] == 0:\n",
    "            if df[\"macd\"][-1]> df[\"signal\"][-1] and \\\n",
    "               df[\"stoch\"][-1]> 30 and \\\n",
    "               df[\"stoch\"][-1] > df[\"stoch\"][-2]:\n",
    "                app.reqIds(-1)\n",
    "                time.sleep(2)\n",
    "                order_id = app.nextValidOrderId\n",
    "                app.placeOrder(order_id,usTechStk(ticker),marketOrder(\"BUY\",quantity))\n",
    "                time.sleep(5)\n",
    "                try:\n",
    "                    pos_df = app.pos_df\n",
    "                    time.sleep(5)\n",
    "                    sl_q = pos_df[pos_df[\"Symbol\"]==ticker][\"Position\"].sort_values(ascending=True).values[-1]\n",
    "                    app.placeOrder(order_id+1,usTechStk(ticker),stopOrder(\"SELL\",sl_q,round(df[\"Close\"][-1]-df[\"atr\"][-1],1)))\n",
    "                except Exception as e:\n",
    "                    print(e, \"no fill for {}\".format(ticker))\n",
    "        elif pos_df[pos_df[\"Symbol\"]==ticker][\"Position\"].sort_values(ascending=True).values[-1] > 0:\n",
    "            try:\n",
    "                ord_id = ord_df[ord_df[\"Symbol\"]==ticker][\"OrderId\"].sort_values(ascending=True).values[-1]\n",
    "                old_quantity = pos_df[pos_df[\"Symbol\"]==ticker][\"Position\"].sort_values(ascending=True).values[-1]\n",
    "                app.cancelOrder(ord_id)\n",
    "                app.reqIds(-1)\n",
    "                time.sleep(2)\n",
    "                order_id = app.nextValidOrderId\n",
    "                app.placeOrder(order_id,usTechStk(ticker),stopOrder(\"SELL\",old_quantity,round(df[\"Close\"][-1]-df[\"atr\"][-1],1)))\n",
    "            except Exception as e:\n",
    "                print(ticker,e)"
   ]
  },
  {
   "cell_type": "code",
   "execution_count": null,
   "metadata": {},
   "outputs": [],
   "source": [
    "pos_df"
   ]
  },
  {
   "cell_type": "code",
   "execution_count": null,
   "metadata": {},
   "outputs": [],
   "source": []
  }
 ],
 "metadata": {
  "kernelspec": {
   "display_name": "ib-trading-bot",
   "language": "python",
   "name": "ib-trading-bot"
  },
  "language_info": {
   "codemirror_mode": {
    "name": "ipython",
    "version": 3
   },
   "file_extension": ".py",
   "mimetype": "text/x-python",
   "name": "python",
   "nbconvert_exporter": "python",
   "pygments_lexer": "ipython3",
   "version": "3.8.5"
  }
 },
 "nbformat": 4,
 "nbformat_minor": 1
}
